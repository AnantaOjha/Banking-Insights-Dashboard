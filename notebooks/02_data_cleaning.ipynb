{
 "cells": [
  {
   "cell_type": "markdown",
   "id": "d0cd6a9c",
   "metadata": {},
   "source": [
    "# ===============================================================\n",
    "#  Project: Banking Insights Dashboard\n",
    "#  Step 2: Data Cleaning & Preprocessing\n",
    "#  Author: [Your Name]\n",
    "#  Description:\n",
    "#    This notebook cleans, standardizes, and merges the raw banking\n",
    "#    datasets into one analysis-ready master file for Tableau.\n",
    "# ==============================================================="
   ]
  },
  {
   "cell_type": "code",
   "execution_count": 1,
   "id": "5d49e2b7",
   "metadata": {},
   "outputs": [],
   "source": [
    "import pandas as pd\n",
    "import numpy as np\n",
    "from datetime import datetime\n",
    "\n",
    "# Configure display options\n",
    "pd.set_option('display.max_columns', None)\n",
    "pd.set_option('display.width', 120)"
   ]
  },
  {
   "cell_type": "code",
   "execution_count": 2,
   "id": "a213805e",
   "metadata": {},
   "outputs": [
    {
     "name": "stdout",
     "output_type": "stream",
     "text": [
      "✅ Data loaded successfully!\n",
      "Customers: (3000, 7), Accounts: (3000, 7), Branches: (150, 3), Loans: (1500, 4), Transactions: (15000, 6)\n"
     ]
    }
   ],
   "source": [
    "# Load all raw data files\n",
    "customers = pd.read_csv('../data/Bank_Customer_Data.csv')\n",
    "accounts = pd.read_csv('../data/Bank_Account_Data.csv')\n",
    "branches = pd.read_csv('../data/Bank_Branch_Data.csv')\n",
    "loans = pd.read_csv('../data/Bank_Loan_Data.csv')\n",
    "transactions = pd.read_csv('../data/Bank_Transacation_Data.csv')\n",
    "\n",
    "print(\"✅ Data loaded successfully!\")\n",
    "print(f\"Customers: {customers.shape}, Accounts: {accounts.shape}, Branches: {branches.shape}, Loans: {loans.shape}, Transactions: {transactions.shape}\")\n"
   ]
  },
  {
   "cell_type": "code",
   "execution_count": 3,
   "id": "a92c6e69",
   "metadata": {},
   "outputs": [
    {
     "name": "stdout",
     "output_type": "stream",
     "text": [
      "✅ Column names standardized!\n"
     ]
    }
   ],
   "source": [
    "# Convert all column names to lowercase and replace spaces with underscores\n",
    "def clean_columns(df):\n",
    "    df.columns = df.columns.str.strip().str.lower().str.replace(' ', '_')\n",
    "    return df\n",
    "\n",
    "datasets = [customers, accounts, branches, loans, transactions]\n",
    "customers, accounts, branches, loans, transactions = [clean_columns(df) for df in datasets]\n",
    "\n",
    "print(\"✅ Column names standardized!\")\n"
   ]
  },
  {
   "cell_type": "code",
   "execution_count": 4,
   "id": "6fad807e",
   "metadata": {},
   "outputs": [
    {
     "name": "stdout",
     "output_type": "stream",
     "text": [
      "✅ Date columns converted!\n"
     ]
    }
   ],
   "source": [
    "# Convert date columns to datetime\n",
    "date_columns = {\n",
    "    'customers': ['dob'],\n",
    "    'accounts': ['account_open_date'],\n",
    "    'transactions': ['transcation_date']\n",
    "}\n",
    "\n",
    "for col in date_columns['customers']:\n",
    "    customers[col] = pd.to_datetime(customers[col], errors='coerce')\n",
    "\n",
    "for col in date_columns['accounts']:\n",
    "    accounts[col] = pd.to_datetime(accounts[col], errors='coerce')\n",
    "\n",
    "for col in date_columns['transactions']:\n",
    "    transactions[col] = pd.to_datetime(transactions[col], errors='coerce')\n",
    "\n",
    "print(\"✅ Date columns converted!\")\n"
   ]
  },
  {
   "cell_type": "code",
   "execution_count": 5,
   "id": "8dc920e1",
   "metadata": {},
   "outputs": [
    {
     "name": "stdout",
     "output_type": "stream",
     "text": [
      "Missing values before cleaning:\n",
      "customer_id     0\n",
      "first_name      0\n",
      "last_name       0\n",
      "city            0\n",
      "phone_number    0\n",
      "occupation      0\n",
      "dob             0\n",
      "dtype: int64\n",
      "✅ Missing values handled and duplicates removed!\n"
     ]
    },
    {
     "name": "stderr",
     "output_type": "stream",
     "text": [
      "C:\\Users\\ANANTA OJHA\\AppData\\Local\\Temp\\ipykernel_15052\\1952006855.py:8: FutureWarning: A value is trying to be set on a copy of a DataFrame or Series through chained assignment using an inplace method.\n",
      "The behavior will change in pandas 3.0. This inplace method will never work because the intermediate object on which we are setting values always behaves as a copy.\n",
      "\n",
      "For example, when doing 'df[col].method(value, inplace=True)', try using 'df.method({col: value}, inplace=True)' or df[col] = df[col].method(value) instead, to perform the operation inplace on the original object.\n",
      "\n",
      "\n",
      "  transactions['transcation_amount'].fillna(0, inplace=True)\n",
      "C:\\Users\\ANANTA OJHA\\AppData\\Local\\Temp\\ipykernel_15052\\1952006855.py:9: FutureWarning: A value is trying to be set on a copy of a DataFrame or Series through chained assignment using an inplace method.\n",
      "The behavior will change in pandas 3.0. This inplace method will never work because the intermediate object on which we are setting values always behaves as a copy.\n",
      "\n",
      "For example, when doing 'df[col].method(value, inplace=True)', try using 'df.method({col: value}, inplace=True)' or df[col] = df[col].method(value) instead, to perform the operation inplace on the original object.\n",
      "\n",
      "\n",
      "  loans['loan_amount'].fillna(0, inplace=True)\n"
     ]
    }
   ],
   "source": [
    "# Check missing values\n",
    "print(\"Missing values before cleaning:\")\n",
    "print(customers.isnull().sum())\n",
    "\n",
    "# Fill missing or invalid entries\n",
    "customers.fillna({'occupation': 'Unknown'}, inplace=True)\n",
    "accounts.fillna({'account_status': 'Active'}, inplace=True)\n",
    "transactions['transcation_amount'].fillna(0, inplace=True)\n",
    "loans['loan_amount'].fillna(0, inplace=True)\n",
    "\n",
    "# Drop duplicate rows if any\n",
    "customers.drop_duplicates(inplace=True)\n",
    "accounts.drop_duplicates(inplace=True)\n",
    "transactions.drop_duplicates(inplace=True)\n",
    "\n",
    "print(\"✅ Missing values handled and duplicates removed!\")\n"
   ]
  },
  {
   "cell_type": "code",
   "execution_count": 6,
   "id": "1569fba3",
   "metadata": {},
   "outputs": [],
   "source": [
    "today = pd.Timestamp.today()\n",
    "customers['customer_age'] = (today - customers['dob']).dt.days // 365\n"
   ]
  },
  {
   "cell_type": "code",
   "execution_count": 7,
   "id": "dde74b55",
   "metadata": {},
   "outputs": [],
   "source": [
    "accounts['account_age'] = (today - accounts['account_open_date']).dt.days // 365\n"
   ]
  },
  {
   "cell_type": "code",
   "execution_count": 8,
   "id": "71537c88",
   "metadata": {},
   "outputs": [
    {
     "name": "stdout",
     "output_type": "stream",
     "text": [
      "✅ Transaction summary created!\n"
     ]
    },
    {
     "data": {
      "text/html": [
       "<div>\n",
       "<style scoped>\n",
       "    .dataframe tbody tr th:only-of-type {\n",
       "        vertical-align: middle;\n",
       "    }\n",
       "\n",
       "    .dataframe tbody tr th {\n",
       "        vertical-align: top;\n",
       "    }\n",
       "\n",
       "    .dataframe thead th {\n",
       "        text-align: right;\n",
       "    }\n",
       "</style>\n",
       "<table border=\"1\" class=\"dataframe\">\n",
       "  <thead>\n",
       "    <tr style=\"text-align: right;\">\n",
       "      <th></th>\n",
       "      <th>account_id</th>\n",
       "      <th>total_transactions</th>\n",
       "      <th>total_transaction_amount</th>\n",
       "      <th>last_transaction_date</th>\n",
       "    </tr>\n",
       "  </thead>\n",
       "  <tbody>\n",
       "    <tr>\n",
       "      <th>0</th>\n",
       "      <td>A00001</td>\n",
       "      <td>14</td>\n",
       "      <td>795292</td>\n",
       "      <td>2022-10-14</td>\n",
       "    </tr>\n",
       "    <tr>\n",
       "      <th>1</th>\n",
       "      <td>A00002</td>\n",
       "      <td>19</td>\n",
       "      <td>1020426</td>\n",
       "      <td>2022-05-02</td>\n",
       "    </tr>\n",
       "    <tr>\n",
       "      <th>2</th>\n",
       "      <td>A00003</td>\n",
       "      <td>19</td>\n",
       "      <td>961033</td>\n",
       "      <td>2022-08-21</td>\n",
       "    </tr>\n",
       "    <tr>\n",
       "      <th>3</th>\n",
       "      <td>A00004</td>\n",
       "      <td>12</td>\n",
       "      <td>528939</td>\n",
       "      <td>2022-12-05</td>\n",
       "    </tr>\n",
       "    <tr>\n",
       "      <th>4</th>\n",
       "      <td>A00005</td>\n",
       "      <td>19</td>\n",
       "      <td>1006175</td>\n",
       "      <td>2023-04-18</td>\n",
       "    </tr>\n",
       "  </tbody>\n",
       "</table>\n",
       "</div>"
      ],
      "text/plain": [
       "  account_id  total_transactions  total_transaction_amount last_transaction_date\n",
       "0     A00001                  14                    795292            2022-10-14\n",
       "1     A00002                  19                   1020426            2022-05-02\n",
       "2     A00003                  19                    961033            2022-08-21\n",
       "3     A00004                  12                    528939            2022-12-05\n",
       "4     A00005                  19                   1006175            2023-04-18"
      ]
     },
     "execution_count": 8,
     "metadata": {},
     "output_type": "execute_result"
    }
   ],
   "source": [
    "# Aggregate transaction data per account\n",
    "txn_summary = transactions.groupby('account_id').agg({\n",
    "    'transcation_amount': ['count', 'sum'],\n",
    "    'transcation_date': 'max'\n",
    "}).reset_index()\n",
    "\n",
    "txn_summary.columns = ['account_id', 'total_transactions', 'total_transaction_amount', 'last_transaction_date']\n",
    "\n",
    "print(\"✅ Transaction summary created!\")\n",
    "txn_summary.head()\n"
   ]
  },
  {
   "cell_type": "code",
   "execution_count": 9,
   "id": "e515bf3f",
   "metadata": {},
   "outputs": [
    {
     "name": "stdout",
     "output_type": "stream",
     "text": [
      "✅ All datasets merged successfully!\n",
      "Final shape: (43686, 21)\n"
     ]
    },
    {
     "data": {
      "text/html": [
       "<div>\n",
       "<style scoped>\n",
       "    .dataframe tbody tr th:only-of-type {\n",
       "        vertical-align: middle;\n",
       "    }\n",
       "\n",
       "    .dataframe tbody tr th {\n",
       "        vertical-align: top;\n",
       "    }\n",
       "\n",
       "    .dataframe thead th {\n",
       "        text-align: right;\n",
       "    }\n",
       "</style>\n",
       "<table border=\"1\" class=\"dataframe\">\n",
       "  <thead>\n",
       "    <tr style=\"text-align: right;\">\n",
       "      <th></th>\n",
       "      <th>account_id</th>\n",
       "      <th>customer_id</th>\n",
       "      <th>branch_id</th>\n",
       "      <th>opening_balance</th>\n",
       "      <th>account_open_date</th>\n",
       "      <th>account_type</th>\n",
       "      <th>account_status</th>\n",
       "      <th>account_age</th>\n",
       "      <th>first_name</th>\n",
       "      <th>last_name</th>\n",
       "      <th>city</th>\n",
       "      <th>phone_number</th>\n",
       "      <th>occupation</th>\n",
       "      <th>dob</th>\n",
       "      <th>customer_age</th>\n",
       "      <th>branch_name</th>\n",
       "      <th>branch_state</th>\n",
       "      <th>loan_amount</th>\n",
       "      <th>total_transactions</th>\n",
       "      <th>total_transaction_amount</th>\n",
       "      <th>last_transaction_date</th>\n",
       "    </tr>\n",
       "  </thead>\n",
       "  <tbody>\n",
       "    <tr>\n",
       "      <th>0</th>\n",
       "      <td>A00001</td>\n",
       "      <td>C00001</td>\n",
       "      <td>B00019</td>\n",
       "      <td>520482</td>\n",
       "      <td>2014-03-01</td>\n",
       "      <td>Savings</td>\n",
       "      <td>Pending</td>\n",
       "      <td>11</td>\n",
       "      <td>Timothy</td>\n",
       "      <td>Nelson</td>\n",
       "      <td>Davidville</td>\n",
       "      <td>1592081539</td>\n",
       "      <td>Magician</td>\n",
       "      <td>1915-09-03</td>\n",
       "      <td>110</td>\n",
       "      <td>NM00018</td>\n",
       "      <td>New Mexico</td>\n",
       "      <td>7799194.0</td>\n",
       "      <td>14</td>\n",
       "      <td>795292</td>\n",
       "      <td>2022-10-14</td>\n",
       "    </tr>\n",
       "    <tr>\n",
       "      <th>1</th>\n",
       "      <td>A00001</td>\n",
       "      <td>C00001</td>\n",
       "      <td>B00019</td>\n",
       "      <td>520482</td>\n",
       "      <td>2014-03-01</td>\n",
       "      <td>Savings</td>\n",
       "      <td>Pending</td>\n",
       "      <td>11</td>\n",
       "      <td>Timothy</td>\n",
       "      <td>Nelson</td>\n",
       "      <td>Davidville</td>\n",
       "      <td>1592081539</td>\n",
       "      <td>Magician</td>\n",
       "      <td>1915-09-03</td>\n",
       "      <td>110</td>\n",
       "      <td>NM00018</td>\n",
       "      <td>New Mexico</td>\n",
       "      <td>4814936.0</td>\n",
       "      <td>14</td>\n",
       "      <td>795292</td>\n",
       "      <td>2022-10-14</td>\n",
       "    </tr>\n",
       "    <tr>\n",
       "      <th>2</th>\n",
       "      <td>A00001</td>\n",
       "      <td>C00001</td>\n",
       "      <td>B00019</td>\n",
       "      <td>520482</td>\n",
       "      <td>2014-03-01</td>\n",
       "      <td>Savings</td>\n",
       "      <td>Pending</td>\n",
       "      <td>11</td>\n",
       "      <td>Timothy</td>\n",
       "      <td>Nelson</td>\n",
       "      <td>Davidville</td>\n",
       "      <td>1592081539</td>\n",
       "      <td>Magician</td>\n",
       "      <td>1915-09-03</td>\n",
       "      <td>110</td>\n",
       "      <td>PR00018</td>\n",
       "      <td>Puerto Rico</td>\n",
       "      <td>7799194.0</td>\n",
       "      <td>14</td>\n",
       "      <td>795292</td>\n",
       "      <td>2022-10-14</td>\n",
       "    </tr>\n",
       "  </tbody>\n",
       "</table>\n",
       "</div>"
      ],
      "text/plain": [
       "  account_id customer_id branch_id  opening_balance account_open_date account_type account_status  account_age  \\\n",
       "0     A00001      C00001    B00019           520482        2014-03-01      Savings        Pending           11   \n",
       "1     A00001      C00001    B00019           520482        2014-03-01      Savings        Pending           11   \n",
       "2     A00001      C00001    B00019           520482        2014-03-01      Savings        Pending           11   \n",
       "\n",
       "  first_name last_name        city  phone_number occupation        dob  customer_age branch_name branch_state  \\\n",
       "0    Timothy    Nelson  Davidville    1592081539   Magician 1915-09-03           110     NM00018   New Mexico   \n",
       "1    Timothy    Nelson  Davidville    1592081539   Magician 1915-09-03           110     NM00018   New Mexico   \n",
       "2    Timothy    Nelson  Davidville    1592081539   Magician 1915-09-03           110     PR00018  Puerto Rico   \n",
       "\n",
       "   loan_amount  total_transactions  total_transaction_amount last_transaction_date  \n",
       "0    7799194.0                  14                    795292            2022-10-14  \n",
       "1    4814936.0                  14                    795292            2022-10-14  \n",
       "2    7799194.0                  14                    795292            2022-10-14  "
      ]
     },
     "execution_count": 9,
     "metadata": {},
     "output_type": "execute_result"
    }
   ],
   "source": [
    "# Merge customers → accounts → branches → loans → transactions\n",
    "merged = accounts.merge(customers, on='customer_id', how='left')\n",
    "merged = merged.merge(branches, on='branch_id', how='left')\n",
    "merged = merged.merge(loans[['customer_id', 'loan_amount']], on='customer_id', how='left')\n",
    "merged = merged.merge(txn_summary, on='account_id', how='left')\n",
    "\n",
    "print(\"✅ All datasets merged successfully!\")\n",
    "print(\"Final shape:\", merged.shape)\n",
    "merged.head(3)\n"
   ]
  },
  {
   "cell_type": "code",
   "execution_count": 10,
   "id": "2d91e515",
   "metadata": {},
   "outputs": [],
   "source": [
    "six_months_ago = today - pd.DateOffset(months=6)\n",
    "merged['churn_flag'] = np.where(merged['last_transaction_date'] < six_months_ago, 1, 0)\n"
   ]
  },
  {
   "cell_type": "code",
   "execution_count": 11,
   "id": "5520eb17",
   "metadata": {},
   "outputs": [],
   "source": [
    "loan_conversion = merged.groupby('branch_state')['loan_amount'].apply(lambda x: x.notnull().mean()).reset_index()\n",
    "loan_conversion.columns = ['branch_state', 'loan_conversion_rate']\n"
   ]
  },
  {
   "cell_type": "code",
   "execution_count": 12,
   "id": "0e2d4fa2",
   "metadata": {},
   "outputs": [],
   "source": [
    "avg_balance = merged.groupby('branch_state')['opening_balance'].mean().reset_index()\n",
    "avg_balance.columns = ['branch_state', 'avg_balance']\n"
   ]
  },
  {
   "cell_type": "code",
   "execution_count": 13,
   "id": "ca8dc0c2",
   "metadata": {},
   "outputs": [
    {
     "name": "stdout",
     "output_type": "stream",
     "text": [
      "✅ Regional KPIs generated!\n"
     ]
    },
    {
     "data": {
      "text/html": [
       "<div>\n",
       "<style scoped>\n",
       "    .dataframe tbody tr th:only-of-type {\n",
       "        vertical-align: middle;\n",
       "    }\n",
       "\n",
       "    .dataframe tbody tr th {\n",
       "        vertical-align: top;\n",
       "    }\n",
       "\n",
       "    .dataframe thead th {\n",
       "        text-align: right;\n",
       "    }\n",
       "</style>\n",
       "<table border=\"1\" class=\"dataframe\">\n",
       "  <thead>\n",
       "    <tr style=\"text-align: right;\">\n",
       "      <th></th>\n",
       "      <th>branch_state</th>\n",
       "      <th>loan_conversion_rate</th>\n",
       "      <th>avg_balance</th>\n",
       "    </tr>\n",
       "  </thead>\n",
       "  <tbody>\n",
       "    <tr>\n",
       "      <th>0</th>\n",
       "      <td>Alabama</td>\n",
       "      <td>0.930108</td>\n",
       "      <td>507050.725806</td>\n",
       "    </tr>\n",
       "    <tr>\n",
       "      <th>1</th>\n",
       "      <td>Alaska</td>\n",
       "      <td>0.917949</td>\n",
       "      <td>466258.758974</td>\n",
       "    </tr>\n",
       "    <tr>\n",
       "      <th>2</th>\n",
       "      <td>Arizona</td>\n",
       "      <td>0.909278</td>\n",
       "      <td>519842.967010</td>\n",
       "    </tr>\n",
       "    <tr>\n",
       "      <th>3</th>\n",
       "      <td>Arkansas</td>\n",
       "      <td>0.921147</td>\n",
       "      <td>517314.792115</td>\n",
       "    </tr>\n",
       "    <tr>\n",
       "      <th>4</th>\n",
       "      <td>California</td>\n",
       "      <td>0.883534</td>\n",
       "      <td>512595.879518</td>\n",
       "    </tr>\n",
       "  </tbody>\n",
       "</table>\n",
       "</div>"
      ],
      "text/plain": [
       "  branch_state  loan_conversion_rate    avg_balance\n",
       "0      Alabama              0.930108  507050.725806\n",
       "1       Alaska              0.917949  466258.758974\n",
       "2      Arizona              0.909278  519842.967010\n",
       "3     Arkansas              0.921147  517314.792115\n",
       "4   California              0.883534  512595.879518"
      ]
     },
     "execution_count": 13,
     "metadata": {},
     "output_type": "execute_result"
    }
   ],
   "source": [
    "branch_kpi = loan_conversion.merge(avg_balance, on='branch_state', how='outer')\n",
    "print(\"✅ Regional KPIs generated!\")\n",
    "branch_kpi.head()\n"
   ]
  },
  {
   "cell_type": "code",
   "execution_count": 14,
   "id": "b9b6c536",
   "metadata": {},
   "outputs": [
    {
     "name": "stdout",
     "output_type": "stream",
     "text": [
      "✅ Final cleaning complete!\n"
     ]
    }
   ],
   "source": [
    "merged.fillna({\n",
    "    'loan_amount': 0,\n",
    "    'total_transactions': 0,\n",
    "    'total_transaction_amount': 0\n",
    "}, inplace=True)\n",
    "\n",
    "merged.drop_duplicates(inplace=True)\n",
    "print(\"✅ Final cleaning complete!\")\n"
   ]
  },
  {
   "cell_type": "code",
   "execution_count": 15,
   "id": "d75318a1",
   "metadata": {},
   "outputs": [
    {
     "name": "stdout",
     "output_type": "stream",
     "text": [
      "✅ Cleaned datasets exported successfully to /data folder!\n"
     ]
    }
   ],
   "source": [
    "# Save cleaned and merged data\n",
    "customers.to_csv('../data/customers_clean.csv', index=False)\n",
    "accounts.to_csv('../data/accounts_clean.csv', index=False)\n",
    "transactions.to_csv('../data/transactions_clean.csv', index=False)\n",
    "merged.to_csv('../data/merged_dataset.csv', index=False)\n",
    "branch_kpi.to_csv('../data/branch_kpi.csv', index=False)\n",
    "\n",
    "print(\"✅ Cleaned datasets exported successfully to /data folder!\")\n"
   ]
  },
  {
   "cell_type": "code",
   "execution_count": 16,
   "id": "c8854b8a",
   "metadata": {},
   "outputs": [
    {
     "name": "stdout",
     "output_type": "stream",
     "text": [
      "Total Customers: 1000\n",
      "Total Branches: 50\n",
      "Churn Rate: 100.0 %\n",
      "Average Loan Amount: 4749896.27\n",
      "Average Account Balance: 497376.94\n"
     ]
    }
   ],
   "source": [
    "print(\"Total Customers:\", merged['customer_id'].nunique())\n",
    "print(\"Total Branches:\", merged['branch_id'].nunique())\n",
    "print(\"Churn Rate:\", round(merged['churn_flag'].mean() * 100, 2), \"%\")\n",
    "print(\"Average Loan Amount:\", round(merged['loan_amount'].mean(), 2))\n",
    "print(\"Average Account Balance:\", round(merged['opening_balance'].mean(), 2))\n"
   ]
  },
  {
   "cell_type": "code",
   "execution_count": 17,
   "id": "24bcc0ba",
   "metadata": {},
   "outputs": [
    {
     "name": "stdout",
     "output_type": "stream",
     "text": [
      "📄 Summary stats saved to docs/data_cleaning_summary.csv\n"
     ]
    }
   ],
   "source": [
    "summary_stats = {\n",
    "    \"total_customers\": merged['customer_id'].nunique(),\n",
    "    \"total_accounts\": merged['account_id'].nunique(),\n",
    "    \"total_branches\": merged['branch_id'].nunique(),\n",
    "    \"total_loans\": merged['loan_amount'].astype(bool).sum(),\n",
    "    \"avg_balance\": merged['opening_balance'].mean(),\n",
    "    \"avg_loan_amount\": merged['loan_amount'].mean(),\n",
    "    \"churn_rate_percent\": merged['churn_flag'].mean() * 100\n",
    "}\n",
    "\n",
    "pd.DataFrame([summary_stats]).to_csv('../docs/data_cleaning_summary.csv', index=False)\n",
    "print(\"📄 Summary stats saved to docs/data_cleaning_summary.csv\")\n"
   ]
  },
  {
   "cell_type": "code",
   "execution_count": 18,
   "id": "374f8aab",
   "metadata": {},
   "outputs": [
    {
     "data": {
      "text/markdown": [
       "\n",
       "## ✅ Next Step: Exploratory Data Analysis (EDA)\n",
       "\n",
       "You now have a clean and analysis-ready dataset:\n",
       "- `merged_dataset.csv` → main file for Tableau and EDA\n",
       "- `branch_kpi.csv` → branch-level KPIs (loan conversion, avg balance)\n",
       "- `customers_clean.csv`, `accounts_clean.csv`, `transactions_clean.csv`\n",
       "\n",
       "### Coming up in Step 3:\n",
       "- Perform exploratory analysis (distributions, correlations)\n",
       "- Identify top performing regions\n",
       "- Validate churn & loan patterns visually (Matplotlib / Seaborn)\n",
       "- Prepare key visuals before moving into Tableau dashboard creation\n"
      ],
      "text/plain": [
       "<IPython.core.display.Markdown object>"
      ]
     },
     "execution_count": 18,
     "metadata": {},
     "output_type": "execute_result"
    }
   ],
   "source": [
    "from IPython.display import Markdown as md\n",
    "\n",
    "md(\"\"\"\n",
    "## ✅ Next Step: Exploratory Data Analysis (EDA)\n",
    "\n",
    "You now have a clean and analysis-ready dataset:\n",
    "- `merged_dataset.csv` → main file for Tableau and EDA\n",
    "- `branch_kpi.csv` → branch-level KPIs (loan conversion, avg balance)\n",
    "- `customers_clean.csv`, `accounts_clean.csv`, `transactions_clean.csv`\n",
    "\n",
    "### Coming up in Step 3:\n",
    "- Perform exploratory analysis (distributions, correlations)\n",
    "- Identify top performing regions\n",
    "- Validate churn & loan patterns visually (Matplotlib / Seaborn)\n",
    "- Prepare key visuals before moving into Tableau dashboard creation\n",
    "\"\"\")\n"
   ]
  }
 ],
 "metadata": {
  "kernelspec": {
   "display_name": "Python 3.11 (TensorFlow)",
   "language": "python",
   "name": "tf_env"
  },
  "language_info": {
   "codemirror_mode": {
    "name": "ipython",
    "version": 3
   },
   "file_extension": ".py",
   "mimetype": "text/x-python",
   "name": "python",
   "nbconvert_exporter": "python",
   "pygments_lexer": "ipython3",
   "version": "3.11.9"
  }
 },
 "nbformat": 4,
 "nbformat_minor": 5
}
